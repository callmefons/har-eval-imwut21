{
 "cells": [
  {
   "cell_type": "markdown",
   "metadata": {},
   "source": [
    "### Import libraries"
   ]
  },
  {
   "cell_type": "code",
   "execution_count": null,
   "metadata": {},
   "outputs": [],
   "source": [
    "import matplotlib.pyplot as plt\n",
    "%matplotlib inline\n",
    "import pandas as pd\n",
    "import numpy as np\n",
    "import joblib # save/load models\n",
    "import pickle # save/load features\n",
    "\n",
    "from sklearn.metrics import confusion_matrix # for confusion_matrix\n",
    "\n",
    "import warnings\n",
    "warnings.filterwarnings('ignore')"
   ]
  },
  {
   "cell_type": "markdown",
   "metadata": {},
   "source": [
    "### Functions for experiments"
   ]
  },
  {
   "cell_type": "code",
   "execution_count": null,
   "metadata": {},
   "outputs": [],
   "source": [
    "def plot_confusion_matrix(cm, classes, y_test,\n",
    "                          title=None,\n",
    "                          normalize=False,\n",
    "                          cmap=plt.cm.Blues):\n",
    "    \"\"\"\n",
    "    This function prints and plots the confusion matrix.\n",
    "    Normalization can be applied by setting `normalize=True`.\n",
    "    \"\"\" \n",
    "    if not title:\n",
    "        if normalize:\n",
    "            title = 'Normalized confusion matrix'\n",
    "        else:\n",
    "            title = 'Confusion matrix, without normalization'\n",
    "\n",
    "    import itertools\n",
    "    if normalize:\n",
    "        cm = cm.astype('float') / cm.sum(axis=1)[:, np.newaxis]\n",
    "        print('Normalized confusion matrix')\n",
    "    else:\n",
    "        print('Confusion matrix, without normalization')\n",
    "\n",
    "    plt.imshow(cm, interpolation='nearest', cmap=cmap)\n",
    "    plt.title(title)\n",
    "    plt.colorbar()\n",
    "    tick_marks = np.arange(len(classes))\n",
    "    plt.xticks(tick_marks, classes, rotation=0)\n",
    "    plt.yticks(tick_marks, classes)\n",
    "\n",
    "    fmt = '.2f' if normalize else 'd'\n",
    "    thresh = cm.max() / 2.\n",
    "    for i, j in itertools.product(range(cm.shape[0]), range(cm.shape[1])):\n",
    "        plt.text(j, i, format(cm[i, j], fmt),\n",
    "                 horizontalalignment=\"center\",\n",
    "                 color=\"white\" if cm[i, j] > thresh else \"black\")\n",
    "\n",
    "    plt.ylabel('True label')\n",
    "    plt.xlabel('Predicted label')\n",
    "    plt.xlim(-0.5, len(np.unique(y_test))-0.5)\n",
    "    plt.ylim(len(np.unique(y_test))-0.5, -0.5)\n",
    "    plt.tight_layout()"
   ]
  },
  {
   "cell_type": "code",
   "execution_count": null,
   "metadata": {},
   "outputs": [],
   "source": [
    "def load_model(filename_model):\n",
    "    return joblib.load(filename_model)"
   ]
  },
  {
   "cell_type": "code",
   "execution_count": null,
   "metadata": {},
   "outputs": [],
   "source": [
    "def load_objs(filename_objs):\n",
    "    with open(filename_objs, 'rb') as f:\n",
    "        try:\n",
    "            loaded_objs = pickle.load(f)\n",
    "            training_features = loaded_objs[0]\n",
    "            test_features = loaded_objs[1]\n",
    "            training_target  = loaded_objs[2]\n",
    "            test_target  = loaded_objs[3]\n",
    "            X_train = loaded_objs[4]\n",
    "            X_val = loaded_objs[5]\n",
    "            y_train = loaded_objs[6]\n",
    "            y_val = loaded_objs[7]\n",
    "            class_weight  = loaded_objs[8],\n",
    "            class_names  = loaded_objs[9]\n",
    "            n_classes = loaded_objs[10]\n",
    "        except:\n",
    "            print(\"Something went wrong when writing to the file\")\n",
    "\n",
    "    return (training_features, test_features, training_target, \n",
    "            test_target,X_train, X_val, y_train, y_val,\n",
    "            class_weight,class_names,n_classes)"
   ]
  },
  {
   "cell_type": "markdown",
   "metadata": {},
   "source": [
    "### Read data"
   ]
  },
  {
   "cell_type": "code",
   "execution_count": null,
   "metadata": {},
   "outputs": [],
   "source": [
    "df_users = pd.read_csv(\"data/methods.csv\")\n",
    "activity_types = pd.read_csv(\"data/activity_types.csv\")"
   ]
  },
  {
   "cell_type": "markdown",
   "metadata": {},
   "source": [
    "### Predict data by each method for plotting"
   ]
  },
  {
   "cell_type": "code",
   "execution_count": null,
   "metadata": {},
   "outputs": [],
   "source": [
    "# define variables\n",
    "users = df_users[df_users[\"method\"]==\"AL\"]\n",
    "method = users[\"method\"].values[0]\n",
    "y_pred_test_all = []\n",
    "test_target_all = []\n",
    "names = []\n",
    "\n",
    "for user in users[\"user_id\"].values:\n",
    "    \n",
    "    user_id = user\n",
    "    \n",
    "    filename_model = \"users-models/model_user_\"+str(user_id)+\".sav\"\n",
    "    filename_objs = \"users-models/model_user_\"+str(user_id)+\".pkl\"\n",
    "    \n",
    "    # load the model from disk\n",
    "    mcl = load_model(filename_model)\n",
    "    \n",
    "    # load the variables from disk\n",
    "    (training_features, test_features, training_target, \n",
    "     test_target, X_train, X_val, y_train, y_val,\n",
    "     class_weight,class_names,n_classes) = load_objs(filename_objs)\n",
    "    \n",
    "    y_pred_test = mcl.predict(test_features)\n",
    "    predictions_test = [round(value) for value in y_pred_test]\n",
    "    \n",
    "    y_pred_val = mcl.predict(X_val)\n",
    "    predictions_val = [round(value) for value in y_pred_val]\n",
    "    \n",
    "    y_pred_test_all = np.append(y_pred_test_all, y_pred_test)\n",
    "    test_target_all = np.append(test_target_all, test_target)\n",
    "    names = np.append(names, class_names) "
   ]
  },
  {
   "cell_type": "code",
   "execution_count": null,
   "metadata": {},
   "outputs": [],
   "source": [
    "names = np.unique(names).astype(int)\n",
    "test_target_all = test_target_all.astype(int)\n",
    "y_pred_test_all = y_pred_test_all.astype(int)"
   ]
  },
  {
   "cell_type": "markdown",
   "metadata": {},
   "source": [
    "### Plot confusion matrices"
   ]
  },
  {
   "cell_type": "code",
   "execution_count": null,
   "metadata": {},
   "outputs": [],
   "source": [
    "cnf_matrix = confusion_matrix(test_target_all, y_pred_test_all, labels=names)\n",
    "title = \"Confusion matrix of {0} condition \\n (normalised to % of total test data):\".format(method)\n",
    "plt.figure()\n",
    "width = 8.5\n",
    "height = 8.5\n",
    "plt.figure(figsize=(width, height))\n",
    "plot_confusion_matrix(cnf_matrix, classes=names, y_test = test_target_all, title = title, normalize=True)"
   ]
  }
 ],
 "metadata": {
  "kernelspec": {
   "display_name": "Python 3",
   "language": "python",
   "name": "python3"
  },
  "language_info": {
   "codemirror_mode": {
    "name": "ipython",
    "version": 3
   },
   "file_extension": ".py",
   "mimetype": "text/x-python",
   "name": "python",
   "nbconvert_exporter": "python",
   "pygments_lexer": "ipython3",
   "version": "3.7.4"
  }
 },
 "nbformat": 4,
 "nbformat_minor": 2
}
