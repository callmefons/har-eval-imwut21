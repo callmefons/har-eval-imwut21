{
 "cells": [
  {
   "cell_type": "markdown",
   "metadata": {},
   "source": [
    "### Import libraries"
   ]
  },
  {
   "cell_type": "code",
   "execution_count": null,
   "metadata": {},
   "outputs": [],
   "source": [
    "import pandas as pd\n",
    "import os\n",
    "os.getcwd()"
   ]
  },
  {
   "cell_type": "markdown",
   "metadata": {},
   "source": [
    "### Read data"
   ]
  },
  {
   "cell_type": "code",
   "execution_count": null,
   "metadata": {},
   "outputs": [],
   "source": [
    "features=0\n",
    "users = pd.read_csv(\"data/methods.csv\")\n",
    "for user in users[\"user_id\"].values:\n",
    "    print(user)\n",
    "    df = pd.read_csv(\"users-raw/results-user-\"+str(user_id)+\".csv\")\n",
    "    features += df.shape[0]\n",
    "    print(df.shape[0])\n",
    "    print(\"------\")"
   ]
  },
  {
   "cell_type": "markdown",
   "metadata": {},
   "source": [
    "### Preprocess by each user"
   ]
  },
  {
   "cell_type": "code",
   "execution_count": null,
   "metadata": {},
   "outputs": [],
   "source": [
    "count = 0\n",
    "for user in users:\n",
    "    \n",
    "    print(\"------------------\", user, \"------------------\")\n",
    "    \n",
    "    user_id = user\n",
    "    \n",
    "    df = pd.read_csv(\"users-raw/results-user-\"+str(user_id)+\".csv\")\n",
    "    df = df.drop_duplicates(\"time\")\n",
    "    df = df.sort_values(\"time\")\n",
    "    df.time = pd.to_datetime(df.time).dt.tz_localize(None)\n",
    "    df.count()\n",
    "    \n",
    "    label = pd.read_csv(\"activities.csv\")\n",
    "    label.start = pd.to_datetime(label.start).dt.tz_localize(None)\n",
    "    label.finish = pd.to_datetime(label.finish).dt.tz_localize(None)\n",
    "    label = label[label['user_id'] == user_id]\n",
    "    label.count()\n",
    "    \n",
    "    # feature\n",
    "    mean_x = []\n",
    "    max_x = [] \n",
    "    min_x = [] \n",
    "    sd_x = [] \n",
    "    mean_y = [] \n",
    "    max_y = [] \n",
    "    min_y = [] \n",
    "    sd_y = [] \n",
    "    mean_z = [] \n",
    "    max_z = [] \n",
    "    min_z = [] \n",
    "    sd_z = []\n",
    "    acts = []\n",
    "    time_start = []\n",
    "    time_finish = []\n",
    "    timestamp = []\n",
    "    \n",
    "    if(df[\"user\"][0] == user_id and label[\"user_id\"].values[0] == user_id):\n",
    "\n",
    "        for row in df.itertuples():\n",
    "\n",
    "            time = row.time\n",
    "\n",
    "            for row_label in label.itertuples():\n",
    "                startTime = row_label.start\n",
    "                finishTime = row_label.finish\n",
    "\n",
    "                if (time >= startTime and time <= finishTime):\n",
    "                    mean_x.append(row.mean_x)\n",
    "                    max_x.append(row.max_x)\n",
    "                    min_x.append(row.min_x)\n",
    "                    sd_x.append(row.sd_x)\n",
    "\n",
    "                    mean_y.append(row.mean_y)\n",
    "                    max_y.append(row.max_y)\n",
    "                    min_y.append(row.min_y)\n",
    "                    sd_y.append(row.sd_y)\n",
    "\n",
    "                    mean_z.append(row.mean_z)\n",
    "                    max_z.append(row.max_z)\n",
    "                    min_z.append(row.min_z)\n",
    "                    sd_z.append(row.sd_z)\n",
    "\n",
    "                    acts.append(row_label.activity_type_id)\n",
    "                    timestamp.append(time)\n",
    "                    time_start.append(startTime)\n",
    "                    time_finish.append(finishTime)\n",
    "\n",
    "        d = {\n",
    "            'mean_x': mean_x, 'max_x': max_x, 'min_x': min_x, 'sd_x': sd_x, \n",
    "            'mean_y': mean_y, 'max_y': max_y, 'min_y': min_y, 'sd_y': sd_y, \n",
    "            'mean_z': mean_z, 'max_z': max_z, 'min_z': min_z, 'sd_z': sd_z,\n",
    "            'time': timestamp, 'time0_start': time_start, 'time1_finish': time_finish,\n",
    "            'user_id': user_id, 'act': acts\n",
    "        }\n",
    "\n",
    "        train_data = pd.DataFrame(data=d)\n",
    "        print(\"train_data: \", train_data['max_x'].count())\n",
    "        print(\"------------------------------------------------\")\n",
    "        train_data.to_csv(\"users-feats/train_data_imwut20_\"+str(user_id)+\".csv\");\n",
    "        \n",
    "        count += 1\n",
    "    \n",
    "    else:\n",
    "        print(\"Error user\", user_id)\n",
    "        print(\"------------------------------------------------\")"
   ]
  }
 ],
 "metadata": {
  "kernelspec": {
   "display_name": "Python 3",
   "language": "python",
   "name": "python3"
  },
  "language_info": {
   "codemirror_mode": {
    "name": "ipython",
    "version": 3
   },
   "file_extension": ".py",
   "mimetype": "text/x-python",
   "name": "python",
   "nbconvert_exporter": "python",
   "pygments_lexer": "ipython3",
   "version": "3.7.4"
  }
 },
 "nbformat": 4,
 "nbformat_minor": 2
}
