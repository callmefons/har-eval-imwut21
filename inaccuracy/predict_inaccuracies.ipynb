{
 "cells": [
  {
   "cell_type": "markdown",
   "metadata": {},
   "source": [
    "### Import libraries"
   ]
  },
  {
   "cell_type": "code",
   "execution_count": null,
   "metadata": {},
   "outputs": [],
   "source": [
    "import pickle\n",
    "import pandas as pd\n",
    "import numpy as np"
   ]
  },
  {
   "cell_type": "markdown",
   "metadata": {},
   "source": [
    "### Load resources"
   ]
  },
  {
   "cell_type": "code",
   "execution_count": null,
   "metadata": {},
   "outputs": [],
   "source": [
    "# load the model from disk\n",
    "filename = \"finalized_model.sav\"\n",
    "model = pickle.load(open(filename, 'rb'))"
   ]
  },
  {
   "cell_type": "markdown",
   "metadata": {},
   "source": [
    "### Predict by each condition"
   ]
  },
  {
   "cell_type": "code",
   "execution_count": null,
   "metadata": {},
   "outputs": [],
   "source": [
    "# define variables\n",
    "cols_when_model_builds\n",
    "conditions = [\"AL\", \"BL\", \"AL+CD\"]\n",
    "methods = [\"AL\", \"AL+CD\", \"BL\"] \n",
    "results = []\n",
    "i = 0\n",
    "\n",
    "for condition in conditions:\n",
    "    print(\"------- condition \", condition , \"-------\")\n",
    "    \n",
    "    users = pd.read_csv(\"../methods.csv\")\n",
    "    users = users[users[\"method\"]==condition]\n",
    "\n",
    "    method = users[\"method\"].values[0]\n",
    "    \n",
    "    for user in users[\"user_id\"].values:\n",
    "        df = pd.read_csv(\"../users-feats/train_data_imwut20_\"+str(user)+\".csv\")\n",
    "        df.dropna()\n",
    "\n",
    "        X = df[df.columns[~df.columns.isin(['Unnamed: 0','act','user_id','time0_start','time1_finish','time','name'])]]\n",
    "        X = X.fillna(0)\n",
    "        X = X[cols_when_model_builds]\n",
    "        \n",
    "        y_pred = model.predict(X)\n",
    "        \n",
    "        from collections import Counter\n",
    "        counter = Counter(y_pred)\n",
    "        \n",
    "        for k, v in counter.items():\n",
    "            per = v/len(y_pred)\n",
    "            \n",
    "            d = {'method': methods[i], 'user_id': user,'class': k, 'count': v, 'percentage': per}\n",
    "            results.append(d)\n",
    "        \n",
    "    i+=1"
   ]
  },
  {
   "cell_type": "markdown",
   "metadata": {},
   "source": [
    "### Export results"
   ]
  },
  {
   "cell_type": "code",
   "execution_count": null,
   "metadata": {},
   "outputs": [],
   "source": [
    "df = pd.DataFrame(data=results)\n",
    "df[\"class\"].replace({1: \"Accurate\", 0: \"Inaccurate\"}, inplace=True)\n",
    "df.to_csv('data/predict_inaccuracies.csv')"
   ]
  }
 ],
 "metadata": {
  "kernelspec": {
   "display_name": "Python 3",
   "language": "python",
   "name": "python3"
  },
  "language_info": {
   "codemirror_mode": {
    "name": "ipython",
    "version": 3
   },
   "file_extension": ".py",
   "mimetype": "text/x-python",
   "name": "python",
   "nbconvert_exporter": "python",
   "pygments_lexer": "ipython3",
   "version": "3.7.4"
  }
 },
 "nbformat": 4,
 "nbformat_minor": 2
}
